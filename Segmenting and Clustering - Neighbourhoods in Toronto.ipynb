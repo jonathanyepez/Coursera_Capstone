{
 "cells": [
  {
   "cell_type": "markdown",
   "metadata": {},
   "source": [
    "# Peer-graded Assignment: Segmenting and Clustering Neighborhoods in Toronto - Week 3 Assessment"
   ]
  },
  {
   "cell_type": "markdown",
   "metadata": {},
   "source": [
    "First, it is necessary to import all the required dependencies and libraries"
   ]
  },
  {
   "cell_type": "code",
   "execution_count": 1,
   "metadata": {
    "scrolled": false
   },
   "outputs": [],
   "source": [
    "#import\n",
    "import pandas as pd\n",
    "from bs4 import BeautifulSoup\n",
    "import requests\n",
    "import collections"
   ]
  },
  {
   "cell_type": "markdown",
   "metadata": {},
   "source": [
    "We will use BeautifulSoup to retrieve the information from the specified Wikipedia page"
   ]
  },
  {
   "cell_type": "code",
   "execution_count": 2,
   "metadata": {},
   "outputs": [],
   "source": [
    "#Alternatively, if we want to feed the webpage directly we can do the following:\n",
    "source=requests.get('https://en.wikipedia.org/wiki/List_of_postal_codes_of_Canada:_M').text\n",
    "newsoup = BeautifulSoup(source, 'lxml') #create a new beautiful soup object\n",
    "#print(newsoup.prettify())"
   ]
  },
  {
   "cell_type": "markdown",
   "metadata": {},
   "source": [
    "Because the postal codes and neighbourhoods are in a table, we can just work with the tbody element from the website and then find all the table rows (trs)"
   ]
  },
  {
   "cell_type": "code",
   "execution_count": 3,
   "metadata": {},
   "outputs": [
    {
     "name": "stdout",
     "output_type": "stream",
     "text": [
      "['Postcode', 'Borough', 'Neighbourhood']\n"
     ]
    }
   ],
   "source": [
    "tbl = newsoup.find('tbody') #find the table body element where all the information is embedded\n",
    "trs= tbl.find_all('tr') #find all the table rows containing the information\n",
    "#print(trs[0])\n",
    "\n",
    "#from the first table row trs[0], obtain the table headings and save them in an array of strings\n",
    "titles=trs[0].find_all('th')\n",
    "title1=titles[0].text\n",
    "title2=titles[1].text\n",
    "title3=titles[2].text\n",
    "title3=title3.split('\\n')[0]\n",
    "titles=[title1,title2,title3] #these are the titles for the dataframe colums\n",
    "print(titles)"
   ]
  },
  {
   "cell_type": "markdown",
   "metadata": {},
   "source": [
    "We have to reorganize the information from the table so that it can be used to create a dataframe, for this we have created three empty lists: postcodes, boroughs and neighbourhoods"
   ]
  },
  {
   "cell_type": "code",
   "execution_count": 4,
   "metadata": {},
   "outputs": [],
   "source": [
    "\n",
    "info = []\n",
    "postcodes=[]\n",
    "boroughs=[]\n",
    "neighbourhoods=[]\n",
    "\n",
    "for x in range(1,len(trs)):  #this would be the beginning of the code needed to iterate over the rest of the rows\n",
    "\n",
    "#trying with the first row containing valuable informtaion:\n",
    "    tds=trs[x].find_all('td') #from the row, find all the tds\n",
    "    cell1=tds[0].text\n",
    "    cell2=tds[1].text\n",
    "    cell3=tds[2].text.split('\\n')[0]\n",
    "    if cell2 != 'Not assigned':\n",
    "        if cell3 == 'Not assigned':\n",
    "            cell3=cell2\n",
    "        row1=[cell1,cell2,cell3]\n",
    "        postcodes.append(cell1) #append the the first cell of the row (Postcode) to the postcodes list\n",
    "        boroughs.append(cell2) #append the second cell of the row (Borough) to the boroughs list\n",
    "        neighbourhoods.append(cell3) #append the third cell of the row (Neighbourhood) to the neighbourhoods list\n",
    "        \n",
    "        info.append(row1) #create a list with lists containing the rows of the Postcodes' table and append information\n",
    "        \n",
    "#print(info) #in case someone wants to look at the information collected from the website"
   ]
  },
  {
   "cell_type": "markdown",
   "metadata": {},
   "source": [
    "Then we can create a dictionary using the previously mentioned lists (arrays), and pass this as an argument to create a pandas dataframe"
   ]
  },
  {
   "cell_type": "code",
   "execution_count": 5,
   "metadata": {},
   "outputs": [
    {
     "data": {
      "text/plain": [
       "103"
      ]
     },
     "execution_count": 5,
     "metadata": {},
     "output_type": "execute_result"
    }
   ],
   "source": [
    "columnas={'pcode':postcodes,'boroughs':boroughs,'neighbourhoods':neighbourhoods}\n",
    "df=pd.DataFrame(columnas)\n",
    "len(df.pcode.unique())"
   ]
  },
  {
   "cell_type": "markdown",
   "metadata": {},
   "source": [
    "Because there are some neighbourhoods that have the same postcode, we use the groupby method and display the first five entries of the updated dataframe"
   ]
  },
  {
   "cell_type": "code",
   "execution_count": 6,
   "metadata": {},
   "outputs": [
    {
     "data": {
      "text/html": [
       "<div>\n",
       "<style scoped>\n",
       "    .dataframe tbody tr th:only-of-type {\n",
       "        vertical-align: middle;\n",
       "    }\n",
       "\n",
       "    .dataframe tbody tr th {\n",
       "        vertical-align: top;\n",
       "    }\n",
       "\n",
       "    .dataframe thead th {\n",
       "        text-align: right;\n",
       "    }\n",
       "</style>\n",
       "<table border=\"1\" class=\"dataframe\">\n",
       "  <thead>\n",
       "    <tr style=\"text-align: right;\">\n",
       "      <th></th>\n",
       "      <th>pcode</th>\n",
       "      <th>boroughs</th>\n",
       "      <th>neighbourhoods</th>\n",
       "    </tr>\n",
       "  </thead>\n",
       "  <tbody>\n",
       "    <tr>\n",
       "      <th>0</th>\n",
       "      <td>M1B</td>\n",
       "      <td>Scarborough</td>\n",
       "      <td>Rouge, Malvern</td>\n",
       "    </tr>\n",
       "    <tr>\n",
       "      <th>1</th>\n",
       "      <td>M1C</td>\n",
       "      <td>Scarborough</td>\n",
       "      <td>Highland Creek, Rouge Hill, Port Union</td>\n",
       "    </tr>\n",
       "    <tr>\n",
       "      <th>2</th>\n",
       "      <td>M1E</td>\n",
       "      <td>Scarborough</td>\n",
       "      <td>Guildwood, Morningside, West Hill</td>\n",
       "    </tr>\n",
       "    <tr>\n",
       "      <th>3</th>\n",
       "      <td>M1G</td>\n",
       "      <td>Scarborough</td>\n",
       "      <td>Woburn</td>\n",
       "    </tr>\n",
       "    <tr>\n",
       "      <th>4</th>\n",
       "      <td>M1H</td>\n",
       "      <td>Scarborough</td>\n",
       "      <td>Cedarbrae</td>\n",
       "    </tr>\n",
       "  </tbody>\n",
       "</table>\n",
       "</div>"
      ],
      "text/plain": [
       "  pcode     boroughs                          neighbourhoods\n",
       "0   M1B  Scarborough                          Rouge, Malvern\n",
       "1   M1C  Scarborough  Highland Creek, Rouge Hill, Port Union\n",
       "2   M1E  Scarborough       Guildwood, Morningside, West Hill\n",
       "3   M1G  Scarborough                                  Woburn\n",
       "4   M1H  Scarborough                               Cedarbrae"
      ]
     },
     "execution_count": 6,
     "metadata": {},
     "output_type": "execute_result"
    }
   ],
   "source": [
    "df = df.groupby(['pcode','boroughs'])['neighbourhoods'].apply(', '.join).reset_index()\n",
    "df.head()\n",
    "#df.loc[df['pcode'] == 'M5A']"
   ]
  },
  {
   "cell_type": "markdown",
   "metadata": {},
   "source": [
    "Finally, we display the number of rows in the dataframe"
   ]
  },
  {
   "cell_type": "code",
   "execution_count": 8,
   "metadata": {},
   "outputs": [
    {
     "data": {
      "text/plain": [
       "(103, 3)"
      ]
     },
     "execution_count": 8,
     "metadata": {},
     "output_type": "execute_result"
    }
   ],
   "source": [
    "df.shape"
   ]
  }
 ],
 "metadata": {
  "kernelspec": {
   "display_name": "Python 3",
   "language": "python",
   "name": "python3"
  },
  "language_info": {
   "codemirror_mode": {
    "name": "ipython",
    "version": 3
   },
   "file_extension": ".py",
   "mimetype": "text/x-python",
   "name": "python",
   "nbconvert_exporter": "python",
   "pygments_lexer": "ipython3",
   "version": "3.7.0"
  }
 },
 "nbformat": 4,
 "nbformat_minor": 2
}
